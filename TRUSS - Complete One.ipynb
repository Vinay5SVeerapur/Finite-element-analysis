{
 "cells": [
  {
   "cell_type": "code",
   "execution_count": 68,
   "metadata": {},
   "outputs": [
    {
     "name": "stdout",
     "output_type": "stream",
     "text": [
      "Enter the nodes: 5\n",
      "1\n",
      "X:0\n",
      "Y:0\n",
      "2\n",
      "X:-100\n",
      "Y:100\n",
      "3\n",
      "X:100\n",
      "Y:100\n",
      "4\n",
      "X:-200\n",
      "Y:0\n",
      "5\n",
      "X:200\n",
      "Y:0\n",
      "Enter the ELEMENTS: 7\n",
      "Enter the nodes one after the other corresponding to the element that is displayed\n",
      "\n",
      "\n",
      "ELEMENT NUMBER: 1\n",
      "Enter the NODE I:1\n",
      "Enter the NODE II:4\n",
      "\n",
      "\n",
      "ELEMENT NUMBER: 2\n",
      "Enter the NODE I:4\n",
      "Enter the NODE II:2\n",
      "\n",
      "\n",
      "ELEMENT NUMBER: 3\n",
      "Enter the NODE I:2\n",
      "Enter the NODE II:1\n",
      "\n",
      "\n",
      "ELEMENT NUMBER: 4\n",
      "Enter the NODE I:1\n",
      "Enter the NODE II:3\n",
      "\n",
      "\n",
      "ELEMENT NUMBER: 5\n",
      "Enter the NODE I:3\n",
      "Enter the NODE II:5\n",
      "\n",
      "\n",
      "ELEMENT NUMBER: 6\n",
      "Enter the NODE I:1\n",
      "Enter the NODE II:5\n",
      "\n",
      "\n",
      "ELEMENT NUMBER: 7\n",
      "Enter the NODE I:2\n",
      "Enter the NODE II:3\n",
      "Enter the Total number of nodes where Point loads are applied:1\n",
      "Enter the Node numbers where Load is applied one by one:1\n",
      "\n",
      "\n",
      "Force Input at Node:  1.0\n",
      "enter the X force in the Node:0\n",
      "enter the Y force in the Node:-10000\n",
      "Make the two DOF constraint in the last two node numbers\n",
      "Enter the first DOF Suppress node (second one will be automatically taken): 5\n",
      "Enter the measurement node:1\n"
     ]
    },
    {
     "data": {
      "text/plain": [
       "-0.09656854258984758"
      ]
     },
     "execution_count": 68,
     "metadata": {},
     "output_type": "execute_result"
    }
   ],
   "source": [
    "#Tested for Page 42 3.20Question of truss\n",
    "\n",
    "import numpy as np\n",
    "import math\n",
    "from numpy.linalg import inv\n",
    "import random\n",
    "import matplotlib.pyplot as plt\n",
    "from tqdm import tqdm\n",
    "area=5\n",
    "E=10e6\n",
    "nodes=int(input(\"Enter the nodes: \"))\n",
    "\n",
    "GLOBAL=np.zeros((nodes*2,nodes*2))\n",
    "add=np.zeros((nodes*2,nodes*2))\n",
    "joints=np.zeros((nodes,3))\n",
    "small=np.zeros((2,2))\n",
    "\n",
    "for i in range(nodes):\n",
    "    print(i+1)\n",
    "    joints[i][0]=i+1    #the joint number\n",
    "    joints[i][1]=input(\"X:\")\n",
    "    joints[i][2]=input(\"Y:\")\n",
    "ELEMENT=int(input(\"Enter the ELEMENTS: \"))\n",
    "element=np.zeros((ELEMENT,9))\n",
    "print(\"Enter the nodes one after the other corresponding to the element that is displayed\")\n",
    "for j in range(ELEMENT):\n",
    "    print(\"\\n\")\n",
    "    print(\"ELEMENT NUMBER:\",j+1)\n",
    "    element[j][0]=j+1\n",
    "    element[j][1]=input(\"Enter the NODE I:\")\n",
    "    element[j][2]=input(\"Enter the NODE II:\")\n",
    "    #element[j][3]=input(\"Enter the angle   :\")\n",
    "    #element[j][3]=math.radians(element[j][3])\n",
    "    try:\n",
    "        element[j][3]=np.arctan((joints[int(element[j][2]-1)][2]-joints[int(element[j][1]-1)][2])/(joints[int(element[j][2]-1)][1]-joints[int(element[j][1]-1)][1]))\n",
    "    except:\n",
    "        element[j][3]=np.tan(90)\n",
    "    element[j][4]=joints[int(element[j][1]-1)][1]\n",
    "    element[j][5]=joints[int(element[j][1]-1)][2]\n",
    "    element[j][6]=joints[int(element[j][2]-1)][1]\n",
    "    element[j][7]=joints[int(element[j][2]-1)][2]\n",
    "    element[j][8]=((element[j][4]-element[j][6])**2+(element[j][5]-element[j][7])**2)**0.5\n",
    "\n",
    "Forces=np.zeros((nodes*2,1))\n",
    "vi=int(input(\"Enter the Total number of nodes where Point loads are applied:\"))\n",
    "ForceNodenumbers=np.zeros((vi))\n",
    "for i in range(vi):\n",
    "    ForceNodenumbers[i]=int(input(\"Enter the Node numbers where Load is applied one by one:\"))\n",
    "for i in range(vi):\n",
    "    print(\"\\n\")\n",
    "    print(\"Force Input at Node: \",ForceNodenumbers[i])\n",
    "    Forces[int(2*(ForceNodenumbers[i]-1))][0]=float(input(\"enter the X force in the Node:\"))\n",
    "    Forces[int((2*(ForceNodenumbers[i]-1))+1)][0]=float(input(\"enter the Y force in the Node:\"))\n",
    "\n",
    "DOF=np.zeros((2,1))\n",
    "print(\"Make the two DOF constraint in the last two node numbers\")\n",
    "DOF[0][0]=int(input(\"Enter the first DOF Suppress node (second one will be automatically taken): \"))\n",
    "\n",
    "Measurement=int(input(\"Enter the measurement node:\"))\n",
    "\n",
    "def TRUSS(joints,element,GLOBAL,Forces,small,add):\n",
    "    for i in range(ELEMENT):\n",
    "        #print(\"Element:\",element[i][0],\"node connection:\",element[i][1],element[i][2],\"Angle:\",np.degrees(element[i][3]),\"L:\",element[i][8])\n",
    "        element[i][3]=np.arctan((joints[int(element[i][2]-1)][2]-joints[int(element[i][1]-1)][2])/(joints[int(element[i][2]-1)][1]-joints[int(element[i][1]-1)][1]))\n",
    "        small[0][0]=round((np.cos(element[i][3])**2)*area*E/element[i][8],3)\n",
    "        small[0][1]=round(np.cos(element[i][3])*np.sin(element[i][3])*area*E/element[i][8],3)\n",
    "        small[1][0]=round(np.cos(element[i][3])*np.sin(element[i][3])*area*E/element[i][8],3)\n",
    "        small[1][1]=round((np.sin(element[i][3])**2)*area*E/element[i][8],3)\n",
    "        #print(small)\n",
    "        #print(area*E/element[i][8])\n",
    "        for x in range(nodes*2):\n",
    "            for y in range(nodes*2):\n",
    "                if(x==2*(element[i][1]-1) and y==2*(element[i][1]-1)):\n",
    "                    add[x][y]=small[0][0]\n",
    "                    add[x][y+1]=small[0][1]\n",
    "                    add[x+1][y]=small[1][0]\n",
    "                    add[x+1][y+1]=small[1][1]\n",
    "                if(x==2*(element[i][2]-1) and y==2*(element[i][2]-1)):\n",
    "                    add[x][y]=small[0][0]\n",
    "                    add[x][y+1]=small[0][1]\n",
    "                    add[x+1][y]=small[1][0]\n",
    "                    add[x+1][y+1]=small[1][1]\n",
    "                if(x==2*(element[i][1]-1) and y==2*(element[i][2]-1)):\n",
    "                    add[x][y]=-small[0][0]\n",
    "                    add[x][y+1]=-small[0][1]\n",
    "                    add[x+1][y]=-small[1][0]\n",
    "                    add[x+1][y+1]=-small[1][1]\n",
    "                if(x==2*(element[i][2]-1) and y==2*(element[i][1]-1)):\n",
    "                    add[x][y]=-small[0][0]\n",
    "                    add[x][y+1]=-small[0][1]\n",
    "                    add[x+1][y]=-small[1][0]\n",
    "                    add[x+1][y+1]=-small[1][1]\n",
    "        #print(add)\n",
    "        GLOBAL=GLOBAL+add\n",
    "        add.fill(0)\n",
    "        small.fill(0)\n",
    "    #print(GLOBAL)\n",
    "\n",
    "    GLOBAL=np.delete(GLOBAL, (2*int(DOF[0][0])-1),axis=0)\n",
    "    GLOBAL=np.delete(GLOBAL, (2*int(DOF[0][0])-2),axis=0)\n",
    "\n",
    "    GLOBAL=np.delete(GLOBAL, (2*int(DOF[0][0])-3),axis=0)\n",
    "    GLOBAL=np.delete(GLOBAL, (2*int(DOF[0][0])-4),axis=0)\n",
    "\n",
    "    GLOBAL=np.delete(GLOBAL, (2*int(DOF[0][0])-1),axis=1)\n",
    "    GLOBAL=np.delete(GLOBAL, (2*int(DOF[0][0])-2),axis=1)\n",
    "\n",
    "    GLOBAL=np.delete(GLOBAL, (2*int(DOF[0][0])-3),axis=1)\n",
    "    GLOBAL=np.delete(GLOBAL, (2*int(DOF[0][0])-4),axis=1)\n",
    "    \n",
    "    Forces=np.delete(Forces, (2*int(DOF[0][0])-1),axis=0)\n",
    "    Forces=np.delete(Forces, (2*int(DOF[0][0])-2),axis=0)\n",
    "    Forces=np.delete(Forces, (2*int(DOF[0][0])-3),axis=0)\n",
    "    Forces=np.delete(Forces, (2*int(DOF[0][0])-4),axis=0)\n",
    "\n",
    "    Y=(np.dot(inv(GLOBAL),Forces))\n",
    "    #print(joints)\n",
    "    #print(\"Xdisp=\",Y[(Measurement-1)*2][0])\n",
    "    #print(\"Ydisp=\",Y[1+((Measurement-1)*2)][0])\n",
    "\n",
    "    #return Y[(Measurement*2)-1][0]\n",
    "    return Y[1+((Measurement-1)*2)][0]\n",
    "#O=[]\n",
    "#MinJoint=np.zeros((nodes,3))\n",
    "#MIN=30\n",
    "#for t in tqdm(range(10)):\n",
    "    #MIN=20 #TRUSS(joints,element,GLOBAL,Forces,small,add)\n",
    "    #O.append(float(TRUSS(joints,element,GLOBAL,Forces,small,add)))\n",
    "    #Here You have to input which nodes you may want to move\n",
    "    #joints[0][1]=0+(-1**random.randint(1,2)*random.randint(1,25))\n",
    "    #joints[0][2]=0+(-1**random.randint(1,2)*random.randint(1,80))\n",
    "    \n",
    "    #joints[7][1]=100+(-1**random.randint(1,2)*random.randint(1,25))\n",
    "    #joints[7][2]=100+(-1**random.randint(1,2)*random.randint(1,80))\n",
    "    \n",
    "    #joints[8][1]=200+(-1**random.randint(1,2)*random.randint(1,25))\n",
    "    #joints[8][2]=100+(-1**random.randint(1,2)*random.randint(1,80))\n",
    "    \n",
    "    #joints[9][1]=300+(-1**random.randint(1,2)*random.randint(1,25))\n",
    "    #joints[9][2]=100+(-1**random.randint(1,2)*random.randint(1,80))\n",
    "    \n",
    "    #joints[10][1]=400+(-1**random.randint(1,2)*random.randint(1,25))\n",
    "    #joints[10][2]=100+(-1**random.randint(1,2)*random.randint(1,80))\n",
    "    \n",
    "    #joints[11][1]=500+(-1**random.randint(1,2)*random.randint(1,25))\n",
    "    #joints[11][2]=100+(-1**random.randint(1,2)*random.randint(1,80))\n",
    "    \n",
    "    #joints[12][1]=600+(-1**random.randint(1,2)*random.randint(1,25))\n",
    "    #joints[12][2]=100+(-1**random.randint(1,2)*random.randint(1,80))\n",
    "    \n",
    "    #joints[13][1]=700+(-1**random.randint(1,2)*random.randint(1,25))\n",
    "    #joints[13][2]=100+(-1**random.randint(1,2)*random.randint(1,80))\n",
    "    \n",
    "    #plt.scatter(joints[0][1],joints[0][2])\n",
    "    #plt.scatter(joints[1][1],joints[1][2])\n",
    "    #plt.scatter(joints[2][1],joints[2][2])\n",
    "    #if TRUSS(joints,element,GLOBAL,Forces,small,add) < MIN:\n",
    "    #    MinJoints=joints\n",
    "    #    MIN=TRUSS(joints,element,GLOBAL,Forces,small,add)\n",
    "\n",
    "#plt.plot(O)\n",
    "#plt.show()\n",
    "#print(np.min(O))\n",
    "#print(MinJoints)\n",
    "\n",
    "TRUSS(joints,element,GLOBAL,Forces,small,add)\n",
    "#print(\"Xdisp=\",dispx)\n",
    "#print(\"Ydisp=\",dispy)\n",
    "\n",
    "#joints[0][1]=joints[0][1]+(-1**random.randint(1,2)*random.randint(1,20))\n",
    "#joints[0][2]=joints[0][2]+(-1**random.randint(1,2)*random.randint(1,20))"
   ]
  },
  {
   "cell_type": "code",
   "execution_count": 37,
   "metadata": {
    "scrolled": true
   },
   "outputs": [
    {
     "data": {
      "image/png": "[encoded data removed]",
      "text/plain": [
       "<Figure size 432x288 with 1 Axes>"
      ]
     },
     "metadata": {
      "needs_background": "light"
     },
     "output_type": "display_data"
    }
   ],
   "source": [
    "for ttt in range(nodes):\n",
    "    plt.scatter(joints[ttt][1],joints[ttt][2])"
   ]
  },
  {
   "cell_type": "code",
   "execution_count": 38,
   "metadata": {},
   "outputs": [
    {
     "name": "stdout",
     "output_type": "stream",
     "text": [
      "[[   1.    0.    0.]\n",
      " [   2. -100.  100.]\n",
      " [   3.  100.  100.]\n",
      " [   4. -200.    0.]\n",
      " [   5.  200.    0.]]\n"
     ]
    }
   ],
   "source": [
    "print(joints)"
   ]
  },
  {
   "cell_type": "markdown",
   "metadata": {},
   "source": [
    "The cycling through the joints."
   ]
  },
  {
   "cell_type": "code",
   "execution_count": 96,
   "metadata": {
    "scrolled": true
   },
   "outputs": [
    {
     "name": "stderr",
     "output_type": "stream",
     "text": [
      "100%|██████████████████████████████████████████████████████████████████████████████████| 50/50 [00:32<00:00,  1.55it/s]\n",
      "100%|██████████████████████████████████████████████████████████████████████████████████| 50/50 [00:31<00:00,  1.58it/s]\n",
      "100%|██████████████████████████████████████████████████████████████████████████████████| 50/50 [00:32<00:00,  1.55it/s]\n",
      "100%|██████████████████████████████████████████████████████████████████████████████████| 50/50 [00:32<00:00,  1.56it/s]\n",
      "100%|██████████████████████████████████████████████████████████████████████████████████| 50/50 [00:32<00:00,  1.56it/s]\n",
      "100%|██████████████████████████████████████████████████████████████████████████████████| 50/50 [00:32<00:00,  1.53it/s]\n",
      "100%|██████████████████████████████████████████████████████████████████████████████████| 50/50 [00:32<00:00,  1.54it/s]\n",
      "100%|██████████████████████████████████████████████████████████████████████████████████| 50/50 [00:32<00:00,  1.54it/s]\n",
      "100%|██████████████████████████████████████████████████████████████████████████████████| 50/50 [00:32<00:00,  1.56it/s]\n",
      "100%|██████████████████████████████████████████████████████████████████████████████████| 50/50 [00:32<00:00,  1.55it/s]\n",
      "100%|██████████████████████████████████████████████████████████████████████████████████| 50/50 [00:32<00:00,  1.56it/s]\n",
      "100%|██████████████████████████████████████████████████████████████████████████████████| 50/50 [00:31<00:00,  1.56it/s]\n",
      "100%|██████████████████████████████████████████████████████████████████████████████████| 50/50 [00:32<00:00,  1.55it/s]\n",
      "100%|██████████████████████████████████████████████████████████████████████████████████| 50/50 [00:32<00:00,  1.55it/s]\n",
      "100%|██████████████████████████████████████████████████████████████████████████████████| 50/50 [00:31<00:00,  1.56it/s]\n",
      "100%|██████████████████████████████████████████████████████████████████████████████████| 50/50 [00:31<00:00,  1.57it/s]\n",
      "100%|██████████████████████████████████████████████████████████████████████████████████| 50/50 [00:31<00:00,  1.57it/s]\n",
      "100%|██████████████████████████████████████████████████████████████████████████████████| 50/50 [00:31<00:00,  1.56it/s]\n",
      "100%|██████████████████████████████████████████████████████████████████████████████████| 50/50 [00:32<00:00,  1.55it/s]\n",
      "100%|██████████████████████████████████████████████████████████████████████████████████| 50/50 [00:32<00:00,  1.56it/s]\n",
      "100%|██████████████████████████████████████████████████████████████████████████████████| 50/50 [00:31<00:00,  1.58it/s]\n",
      "100%|██████████████████████████████████████████████████████████████████████████████████| 50/50 [00:31<00:00,  1.61it/s]\n",
      "100%|██████████████████████████████████████████████████████████████████████████████████| 50/50 [00:31<00:00,  1.61it/s]\n",
      "100%|██████████████████████████████████████████████████████████████████████████████████| 50/50 [00:31<00:00,  1.61it/s]\n",
      "100%|██████████████████████████████████████████████████████████████████████████████████| 50/50 [00:31<00:00,  1.61it/s]\n",
      "100%|██████████████████████████████████████████████████████████████████████████████████| 50/50 [00:30<00:00,  1.61it/s]\n",
      "100%|██████████████████████████████████████████████████████████████████████████████████| 50/50 [00:31<00:00,  1.59it/s]\n",
      "100%|██████████████████████████████████████████████████████████████████████████████████| 50/50 [00:31<00:00,  1.61it/s]\n",
      "100%|██████████████████████████████████████████████████████████████████████████████████| 50/50 [00:32<00:00,  1.55it/s]\n",
      "100%|██████████████████████████████████████████████████████████████████████████████████| 50/50 [00:35<00:00,  1.41it/s]\n",
      "100%|██████████████████████████████████████████████████████████████████████████████████| 50/50 [00:34<00:00,  1.47it/s]\n",
      "100%|██████████████████████████████████████████████████████████████████████████████████| 50/50 [00:31<00:00,  1.58it/s]\n",
      "100%|██████████████████████████████████████████████████████████████████████████████████| 50/50 [00:30<00:00,  1.62it/s]\n",
      "100%|██████████████████████████████████████████████████████████████████████████████████| 50/50 [00:30<00:00,  1.62it/s]\n",
      "100%|██████████████████████████████████████████████████████████████████████████████████| 50/50 [00:30<00:00,  1.62it/s]\n",
      "100%|██████████████████████████████████████████████████████████████████████████████████| 50/50 [00:31<00:00,  1.61it/s]\n",
      "100%|██████████████████████████████████████████████████████████████████████████████████| 50/50 [00:30<00:00,  1.62it/s]\n",
      "100%|██████████████████████████████████████████████████████████████████████████████████| 50/50 [00:31<00:00,  1.60it/s]\n",
      "100%|██████████████████████████████████████████████████████████████████████████████████| 50/50 [00:30<00:00,  1.62it/s]\n",
      "100%|██████████████████████████████████████████████████████████████████████████████████| 50/50 [00:30<00:00,  1.62it/s]"
     ]
    },
    {
     "name": "stdout",
     "output_type": "stream",
     "text": [
      "0.05869397936740571\n",
      "[[   1.            0.            0.        ]\n",
      " [   2.          -50.39426493   93.73333832]\n",
      " [   3.          149.60573507   93.73333832]\n",
      " [   4.         -200.            0.        ]\n",
      " [   5.          200.            0.        ]]\n"
     ]
    },
    {
     "name": "stderr",
     "output_type": "stream",
     "text": [
      "\n"
     ]
    },
    {
     "data": {
      "image/png": "[encoded data removed]",
      "text/plain": [
       "<Figure size 432x288 with 1 Axes>"
      ]
     },
     "metadata": {
      "needs_background": "light"
     },
     "output_type": "display_data"
    }
   ],
   "source": [
    "Min=100\n",
    "O=[]\n",
    "#plt.scatter(-100,100)\n",
    "#plt.scatter(100,100)\n",
    "for radius in range(10,50):\n",
    "    for i in tqdm(range(50)):\n",
    "        joints[1][1]=-100+(50*np.cos(np.radians(i*(360/50))))\n",
    "        joints[1][2]=100+(50*np.sin(np.radians(i*(360/50))))\n",
    "        for j in range(50):\n",
    "            joints[2][1]=100+(50*np.cos(np.radians(i*(360/50))))\n",
    "            joints[2][2]=100+(50*np.sin(np.radians(i*(360/50))))\n",
    "            TRUSS(joints,element,GLOBAL,Forces,small,add)\n",
    "            O.append(TRUSS(joints,element,GLOBAL,Forces,small,add))\n",
    "            if abs(TRUSS(joints,element,GLOBAL,Forces,small,add))<Min:\n",
    "                Min=abs(TRUSS(joints,element,GLOBAL,Forces,small,add))\n",
    "                Temp=joints\n",
    "        #print(\"\\n\")\n",
    "#for ttt in range(nodes):\n",
    "#    plt.scatter(Temp[ttt][1],Temp[ttt][2])\n",
    "print(abs(max(O)))\n",
    "print(Temp)\n",
    "plt.plot(O)\n",
    "plt.show()"
   ]
  },
  {
   "cell_type": "code",
   "execution_count": 97,
   "metadata": {},
   "outputs": [
    {
     "data": {
      "image/png": "[encoded data removed]",
      "text/plain": [
       "<Figure size 432x288 with 1 Axes>"
      ]
     },
     "metadata": {
      "needs_background": "light"
     },
     "output_type": "display_data"
    }
   ],
   "source": [
    "for ttt in range(nodes):\n",
    "    plt.scatter(Temp[ttt][1],Temp[ttt][2])"
   ]
  },
  {
   "cell_type": "code",
   "execution_count": 72,
   "metadata": {},
   "outputs": [
    {
     "name": "stdout",
     "output_type": "stream",
     "text": [
      "-0.07570390418216044\n"
     ]
    }
   ],
   "source": [
    "print(max(O))"
   ]
  },
  {
   "cell_type": "markdown",
   "metadata": {},
   "source": [
    "The Sequencial Cycling of joints positions. "
   ]
  },
  {
   "cell_type": "code",
   "execution_count": 90,
   "metadata": {},
   "outputs": [
    {
     "name": "stderr",
     "output_type": "stream",
     "text": [
      "100%|███████████████████████████████████████████████████████████████████████████████| 100/100 [00:00<00:00, 102.57it/s]\n",
      "100%|███████████████████████████████████████████████████████████████████████████████| 100/100 [00:00<00:00, 115.31it/s]\n"
     ]
    },
    {
     "name": "stdout",
     "output_type": "stream",
     "text": [
      "0.08524734630388536\n",
      "[[   1.            0.            0.        ]\n",
      " [   2.          -80.03946543   98.74418961]\n",
      " [   3.          119.96053457   98.74418961]\n",
      " [   4.         -200.            0.        ]\n",
      " [   5.          200.            0.        ]]\n"
     ]
    },
    {
     "data": {
      "image/png": "[encoded data removed]",
      "text/plain": [
       "<Figure size 432x288 with 1 Axes>"
      ]
     },
     "metadata": {
      "needs_background": "light"
     },
     "output_type": "display_data"
    }
   ],
   "source": [
    "Min=100\n",
    "O=[]\n",
    "#plt.scatter(-100,100)\n",
    "#plt.scatter(100,100)\n",
    "for i in tqdm(range(100)):\n",
    "    joints[1][1]=-100+(20*np.cos(np.radians(i*(360/100))))\n",
    "    joints[1][2]=100+(20*np.sin(np.radians(i*(360/100))))\n",
    "    O.append(TRUSS(joints,element,GLOBAL,Forces,small,add))\n",
    "    if abs(TRUSS(joints,element,GLOBAL,Forces,small,add))<Min:\n",
    "        Min=abs(TRUSS(joints,element,GLOBAL,Forces,small,add))\n",
    "        Temp=joints\n",
    "joints=Temp\n",
    "#Min=abs(TRUSS(joints,element,GLOBAL,Forces,small,add))\n",
    "for j in tqdm(range(100)):\n",
    "    joints[2][1]=100+(20*np.cos(np.radians(i*(360/100))))\n",
    "    joints[2][2]=100+(20*np.sin(np.radians(i*(360/100))))\n",
    "    O.append(TRUSS(joints,element,GLOBAL,Forces,small,add))\n",
    "    if abs(TRUSS(joints,element,GLOBAL,Forces,small,add))<Min:\n",
    "        Min=abs(TRUSS(joints,element,GLOBAL,Forces,small,add))\n",
    "        Temp=joints\n",
    "#print(\"\\n\")\n",
    "#for ttt in range(nodes):\n",
    "#   plt.scatter(joints[ttt][1],joints[ttt][2])\n",
    "print(Min)\n",
    "print(joints)\n",
    "plt.plot(O)\n",
    "plt.show()"
   ]
  },
  {
   "cell_type": "code",
   "execution_count": null,
   "metadata": {
    "scrolled": false
   },
   "outputs": [],
   "source": [
    "O=[]\n",
    "MinJoint=np.zeros((nodes,3))\n",
    "MIN=30\n",
    "for t in range(100):\n",
    "    #MIN=20 #TRUSS(joints,element,GLOBAL,Forces,small,add)\n",
    "    O.append(float(TRUSS(joints,element,GLOBAL,Forces,small,add)))\n",
    "    #Here You have to input which nodes you may want to move\n",
    "    #joints[0][1]=0+(-1**random.randint(1,2)*random.randint(1,25))\n",
    "    #joints[0][2]=0+(-1**random.randint(1,2)*random.randint(1,80))\n",
    "    \n",
    "    #joints[7][1]=100+(-1**random.randint(1,2)*random.randint(1,25))\n",
    "    joints[7][2]=100+(-1**random.randint(1,2)*random.randint(1,10))\n",
    "    \n",
    "    #joints[8][1]=200+(-1**random.randint(1,2)*random.randint(1,25))\n",
    "    joints[8][2]=100+(-1**random.randint(1,2)*random.randint(1,20))\n",
    "    \n",
    "    #joints[9][1]=300+(-1**random.randint(1,2)*random.randint(1,25))\n",
    "    joints[9][2]=100+(-1**random.randint(1,2)*random.randint(1,30))\n",
    "    \n",
    "    #joints[10][1]=400+(-1**random.randint(1,2)*random.randint(1,25))\n",
    "    joints[10][2]=100+(-1**random.randint(1,2)*random.randint(1,40))\n",
    "    \n",
    "    #joints[11][1]=500+(-1**random.randint(1,2)*random.randint(1,25))\n",
    "    joints[11][2]=100+(-1**random.randint(1,2)*random.randint(1,30))\n",
    "    \n",
    "    #joints[12][1]=600+(-1**random.randint(1,2)*random.randint(1,25))\n",
    "    joints[12][2]=100+(-1**random.randint(1,2)*random.randint(1,20))\n",
    "    \n",
    "    #joints[13][1]=700+(-1**random.randint(1,2)*random.randint(1,25))\n",
    "    joints[13][2]=100+(-1**random.randint(1,2)*random.randint(1,10))\n",
    "    \n",
    "    #plt.scatter(joints[0][1],joints[0][2])\n",
    "    #plt.scatter(joints[1][1],joints[1][2])\n",
    "    #plt.scatter(joints[2][1],joints[2][2])\n",
    "    if abs(TRUSS(joints,element,GLOBAL,Forces,small,add)) < MIN:\n",
    "        MinJoints=joints\n",
    "        MIN=abs(TRUSS(joints,element,GLOBAL,Forces,small,add))\n",
    "\n",
    "plt.plot(O)\n",
    "plt.show()\n",
    "print(MIN)\n",
    "print(MinJoints)\n",
    "for fff in range(16):\n",
    "    plt.scatter(MinJoints[fff][1],MinJoints[fff][2])\n",
    "#TRUSS(joints,element,GLOBAL,Forces,small,add)\n",
    "#joints[0][1]=joints[0][1]+(-1**random.randint(1,2)*random.randint(1,20))\n",
    "#joints[0][2]=joints[0][2]+(-1**random.randint(1,2)*random.randint(1,20))"
   ]
  }
 ],
 "metadata": {
  "kernelspec": {
   "display_name": "Python 3",
   "language": "python",
   "name": "python3"
  },
  "language_info": {
   "codemirror_mode": {
    "name": "ipython",
    "version": 3
   },
   "file_extension": ".py",
   "mimetype": "text/x-python",
   "name": "python",
   "nbconvert_exporter": "python",
   "pygments_lexer": "ipython3",
   "version": "3.7.4"
  }
 },
 "nbformat": 4,
 "nbformat_minor": 2
}
